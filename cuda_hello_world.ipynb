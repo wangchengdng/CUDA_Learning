{
  "nbformat": 4,
  "nbformat_minor": 0,
  "metadata": {
    "colab": {
      "name": "cuda_hello_world.ipynb",
      "private_outputs": true,
      "provenance": [],
      "collapsed_sections": [],
      "authorship_tag": "ABX9TyMDv7yaA3xUNB4j2SkJnRFZ",
      "include_colab_link": true
    },
    "kernelspec": {
      "name": "python3",
      "display_name": "Python 3"
    },
    "language_info": {
      "name": "python"
    },
    "accelerator": "GPU"
  },
  "cells": [
    {
      "cell_type": "markdown",
      "metadata": {
        "id": "view-in-github",
        "colab_type": "text"
      },
      "source": [
        "<a href=\"https://colab.research.google.com/github/wangchengdng/CUDA_Learning/blob/main/cuda_hello_world.ipynb\" target=\"_parent\"><img src=\"https://colab.research.google.com/assets/colab-badge.svg\" alt=\"Open In Colab\"/></a>"
      ]
    },
    {
      "cell_type": "code",
      "metadata": {
        "id": "7ozGWHuqpClB"
      },
      "source": [
        "!pip install git+git://github.com/depctg/nvcc4jupyter.git\n",
        "%load_ext nvcc_plugin\n",
        "\n",
        "!nvcc --version"
      ],
      "execution_count": null,
      "outputs": []
    },
    {
      "cell_type": "code",
      "metadata": {
        "id": "lTFS3n4sp9vg"
      },
      "source": [
        "%%cu\n",
        "#include <stdio.h>\n",
        "__global__ void cuda_hello() {\n",
        "    const int bid = blockIdx.x;\n",
        "    const int tid = threadIdx.x;\n",
        "    printf(\"Hello World from block %d and thread %d!\\n\", bid, tid);\n",
        "}\n",
        "int main() {\n",
        "    cuda_hello<<<2,3>>>();\n",
        "    cudaDeviceSynchronize();\n",
        "    return 0;\n",
        "}"
      ],
      "execution_count": null,
      "outputs": []
    },
    {
      "cell_type": "code",
      "metadata": {
        "id": "ysfW55uvrL2I"
      },
      "source": [
        "%%cu\n",
        "#include<iostream>\n",
        "\n",
        "#define VECTOR_LENGTH 100\n",
        "\n",
        "__global__ void vector_add_cuda(float *out, float *a, float *b, int n) {\n",
        "    for (int i = 0; i < n; i++) {\n",
        "        out[i] = a[i] + b[i];\n",
        "    }\n",
        "}\n",
        "\n",
        "void vector_add(float *out, float *a, float *b, int n) {\n",
        "    for (int i = 0; i < n; i++) {\n",
        "        out[i] = a[i] + b[i];\n",
        "    }\n",
        "}\n",
        "\n",
        "int main() {\n",
        "    float *a, *b, *out, *cpu_out;\n",
        "    float *cuda_a, *cuda_b, *cuda_out;\n",
        "    //malloc from cpu\n",
        "    a = (float*)malloc(sizeof(float) * VECTOR_LENGTH);\n",
        "    b = (float*)malloc(sizeof(float) * VECTOR_LENGTH);\n",
        "    out = (float*)malloc(sizeof(float) * VECTOR_LENGTH);\n",
        "    cpu_out = (float*) malloc(sizeof(float) * VECTOR_LENGTH);\n",
        "    for (int i = 0; i < VECTOR_LENGTH; i++) {\n",
        "        a[i] = 3.0f;\n",
        "        b[i] = 0.14f;\n",
        "    }\n",
        "\n",
        "    //malloc from gpu\n",
        "    cudaMalloc((void**)&cuda_a, sizeof(float) * VECTOR_LENGTH);\n",
        "    cudaMalloc((void**)&cuda_b, sizeof(float) * VECTOR_LENGTH);\n",
        "    cudaMalloc((void**)&cuda_out, sizeof(float) * VECTOR_LENGTH);\n",
        "\n",
        "    //copy memory from cpu to gpu\n",
        "    cudaMemcpy(cuda_a, a, sizeof(float) * VECTOR_LENGTH, cudaMemcpyHostToDevice);\n",
        "    cudaMemcpy(cuda_b, b, sizeof(float) * VECTOR_LENGTH, cudaMemcpyHostToDevice);\n",
        "    \n",
        "    //run gpu\n",
        "    vector_add_cuda<<<1,1>>>(cuda_out, cuda_a, cuda_b, VECTOR_LENGTH);\n",
        "    cudaDeviceSynchronize();\n",
        "    //cpy result from gpu to cpu\n",
        "    cudaMemcpy(out, cuda_out, sizeof(float) * VECTOR_LENGTH, cudaMemcpyDeviceToHost);\n",
        "\n",
        "    //run cpu\n",
        "    //vector_add(cpu_out, a, b, VECTOR_LENGTH);\n",
        "\n",
        "    //check result\n",
        "    for (int i = 0; i < VECTOR_LENGTH; i++) {\n",
        "        std::cout << out[i] << std::endl;\n",
        "    }\n",
        "    //free memory\n",
        "    cudaFree(cuda_a);\n",
        "    cudaFree(cuda_b);\n",
        "    cudaFree(cuda_out);\n",
        "    free(a);\n",
        "    free(b);\n",
        "    free(out);\n",
        "    free(cpu_out);\n",
        "    return 0;\n",
        "}"
      ],
      "execution_count": null,
      "outputs": []
    },
    {
      "cell_type": "code",
      "metadata": {
        "id": "mbdtNB5rvWX5"
      },
      "source": [
        "%%cu\n",
        "#include <stdio.h>\n",
        "\n",
        "#define VECTOR_LENGTH 1000\n",
        "\n",
        "__global__ void dot_product(float *a, float *b, float *out, int n) {\n",
        "    float sum = 0;\n",
        "    for(int i = 0; i < n; i++) {\n",
        "        sum = a[i] * b[i] + sum;\n",
        "    }\n",
        "    *out = sum;\n",
        "}\n",
        "\n",
        "int main() {\n",
        "    float *a, *b, *out;\n",
        "    float *cuda_a, *cuda_b, *cuda_out;\n",
        "    //malloc cpu\n",
        "    a = (float*)malloc(sizeof(float) * VECTOR_LENGTH);\n",
        "    b = (float*)malloc(sizeof(float) * VECTOR_LENGTH);\n",
        "    out = (float*)malloc(sizeof(float));\n",
        "\n",
        "    //init\n",
        "    for (int i = 0; i < VECTOR_LENGTH; i++) {\n",
        "        a[i] = 3.0f;\n",
        "        b[i] = 0.4f;    \n",
        "    }\n",
        "\n",
        "    //malloc gpu\n",
        "    cudaMalloc((void**)&cuda_a, sizeof(float) * VECTOR_LENGTH);\n",
        "    cudaMalloc((void**)&cuda_b, sizeof(float) * VECTOR_LENGTH);\n",
        "    cudaMalloc((void**)&cuda_out, sizeof(float));\n",
        "\n",
        "    //copy memory from cpu to gpu\n",
        "    cudaMemcpy(cuda_a, a, sizeof(float) * VECTOR_LENGTH, cudaMemcpyHostToDevice);\n",
        "    cudaMemcpy(cuda_b, b, sizeof(float) * VECTOR_LENGTH, cudaMemcpyHostToDevice);\n",
        "    \n",
        "    //run gpu\n",
        "    dot_product<<<1,1>>>(cuda_a, cuda_b, cuda_out, VECTOR_LENGTH);\n",
        "\n",
        "    //copy result from gpu\n",
        "    cudaMemcpy(out, cuda_out, sizeof(float), cudaMemcpyDeviceToHost);\n",
        "\n",
        "    //check result\n",
        "    printf(\"dot product result=%f\", *out);\n",
        "\n",
        "    //free resource\n",
        "    free(a);\n",
        "    free(b);\n",
        "    free(out);\n",
        "    cudaFree(cuda_a);\n",
        "    cudaFree(cuda_b);\n",
        "    cudaFree(cuda_out);\n",
        "    return 0;\n",
        "}"
      ],
      "execution_count": null,
      "outputs": []
    }
  ]
}